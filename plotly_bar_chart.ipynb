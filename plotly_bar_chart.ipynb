{
 "cells": [
  {
   "cell_type": "code",
   "execution_count": 18,
   "metadata": {},
   "outputs": [],
   "source": [
    "import plotly\n",
    "plotly.tools.set_credentials_file(username='ryanmklee', api_key='wgW1yo2f89iZfrJ1Ei9L')"
   ]
  },
  {
   "cell_type": "code",
   "execution_count": 47,
   "metadata": {},
   "outputs": [],
   "source": [
    "import cProfile\n",
    "import pstats\n",
    "import io\n",
    "import os\n",
    "\n",
    "import numpy as np\n",
    "import pandas as pd\n",
    "from sklearn.neighbors import KNeighborsClassifier"
   ]
  },
  {
   "cell_type": "code",
   "execution_count": 43,
   "metadata": {},
   "outputs": [],
   "source": [
    "import plotly.plotly as py\n",
    "import plotly.graph_objs as go"
   ]
  },
  {
   "cell_type": "code",
   "execution_count": 44,
   "metadata": {},
   "outputs": [],
   "source": [
    "def load_csv_as_np_array(filename):\n",
    "    return pd.read_csv(os.path.join('datasets', filename)).values\n",
    "\n",
    "\n",
    "def model_predict(X, model):\n",
    "    return model.predict(X)\n",
    "\n",
    "\n",
    "def convert_profiler_to_lists(profiler):\n",
    "    lines = []\n",
    "    s = io.StringIO()\n",
    "    stats = pstats.Stats(profiler, stream=s).sort_stats('tottime')\n",
    "    stats.print_stats()\n",
    "\n",
    "    with open('test.txt', 'w+') as f:\n",
    "        f.write(s.getvalue())\n",
    "\n",
    "    with open('test.txt', 'r') as f:\n",
    "        for _ in range(4):\n",
    "            f.readline()\n",
    "\n",
    "        headers = [column for column in f.readline().split() if column]\n",
    "\n",
    "        for line in f:\n",
    "            if line:\n",
    "                if line.find(\"{\") != -1:\n",
    "                    numbers, fn_name = line.split(\"{\")\n",
    "                    lines.append(numbers.split() + [fn_name.split(\"}\")[0]])\n",
    "                else:\n",
    "                    lines.append(line.split())\n",
    "\n",
    "    return headers, lines"
   ]
  },
  {
   "cell_type": "code",
   "execution_count": 133,
   "metadata": {},
   "outputs": [
    {
     "name": "stdout",
     "output_type": "stream",
     "text": [
      "[['1', '0.200', '0.200', '0.216', '0.216', \"method 'query' of 'sklearn.neighbors.kd_tree.BinaryTree' objects\"], ['21', '0.015', '0.001', '0.015', '0.001', 'built-in method numpy.core.multiarray.array'], ['4', '0.001', '0.000', '0.001', '0.000', \"method 'reduce' of 'numpy.ufunc' objects\"], ['1', '0.000', '0.000', '0.217', '0.217', '/Users/ryanlee/anaconda3/lib/python3.6/site-packages/sklearn/neighbors/classification.py:129(predict)'], ['2', '0.000', '0.000', '0.000', '0.000', 'built-in method builtins.compile'], ['3', '0.000', '0.000', '0.016', '0.005', '/Users/ryanlee/anaconda3/lib/python3.6/site-packages/sklearn/utils/validation.py:310(check_array)'], ['1', '0.000', '0.000', '0.000', '0.000', '/Users/ryanlee/anaconda3/lib/python3.6/site-packages/scipy/stats/stats.py:386(mode)'], ['3', '0.000', '0.000', '0.001', '0.000', '/Users/ryanlee/anaconda3/lib/python3.6/site-packages/sklearn/utils/validation.py:33(_assert_all_finite)'], ['1', '0.000', '0.000', '0.217', '0.217', '/Users/ryanlee/anaconda3/lib/python3.6/site-packages/sklearn/neighbors/base.py:273(kneighbors)'], ['5', '0.000', '0.000', '0.000', '0.000', '/Users/ryanlee/anaconda3/lib/python3.6/site-packages/numpy/core/shape_base.py:63(atleast_2d)'], ['1', '0.000', '0.000', '0.217', '0.217', '/Users/ryanlee/anaconda3/lib/python3.6/site-packages/sklearn/externals/joblib/parallel.py:742(__call__)'], ['2', '0.000', '0.000', '0.217', '0.108', '/Users/ryanlee/anaconda3/lib/python3.6/site-packages/sklearn/externals/joblib/parallel.py:603(dispatch_one_batch)'], ['1', '0.000', '0.000', '0.000', '0.000', '/Users/ryanlee/anaconda3/lib/python3.6/site-packages/scipy/stats/stats.py:228(_contains_nan)'], ['1', '0.000', '0.000', '0.000', '0.000', '/Users/ryanlee/anaconda3/lib/python3.6/site-packages/sklearn/externals/joblib/parallel.py:473(__init__)'], ['2', '0.000', '0.000', '0.217', '0.109', '/Users/ryanlee/anaconda3/lib/python3.6/site-packages/IPython/core/interactiveshell.py:2933(run_code)'], ['1', '0.000', '0.000', '0.000', '0.000', '/Users/ryanlee/anaconda3/lib/python3.6/site-packages/numpy/lib/arraysetops.py:268(_unique1d)'], ['3', '0.000', '0.000', '0.000', '0.000', '/Users/ryanlee/anaconda3/lib/python3.6/site-packages/sklearn/utils/validation.py:125(_shape_repr)'], ['12', '0.000', '0.000', '0.000', '0.000', 'built-in method builtins.getattr'], ['13', '0.000', '0.000', '0.000', '0.000', 'built-in method builtins.hasattr'], ['2/1', '0.000', '0.000', '0.000', '0.000', '/Users/ryanlee/anaconda3/lib/python3.6/site-packages/sklearn/externals/joblib/parallel.py:543(_initialize_backend)'], ['1', '0.000', '0.000', '0.000', '0.000', '/Users/ryanlee/anaconda3/lib/python3.6/site-packages/sklearn/externals/joblib/parallel.py:684(retrieve)'], ['2', '0.000', '0.000', '0.000', '0.000', 'built-in method numpy.core.multiarray.concatenate'], ['1', '0.000', '0.000', '0.000', '0.000', '/Users/ryanlee/anaconda3/lib/python3.6/site-packages/sklearn/externals/joblib/parallel.py:211(__call__)'], ['27', '0.000', '0.000', '0.000', '0.000', 'built-in method builtins.len'], ['1', '0.000', '0.000', '0.000', '0.000', '/Users/ryanlee/anaconda3/lib/python3.6/functools.py:44(update_wrapper)'], ['2', '0.000', '0.000', '0.000', '0.000', '/Users/ryanlee/anaconda3/lib/python3.6/codeop.py:132(__call__)'], ['2', '0.000', '0.000', '0.000', '0.000', 'built-in method numpy.core.multiarray.where'], ['3', '0.000', '0.000', '0.000', '0.000', '/Users/ryanlee/anaconda3/lib/python3.6/site-packages/numpy/core/fromnumeric.py:64(_wrapreduction)'], ['2', '0.000', '0.000', '0.000', '0.000', '/Users/ryanlee/anaconda3/lib/python3.6/site-packages/sklearn/externals/joblib/parallel.py:126(__init__)'], ['2', '0.000', '0.000', '0.000', '0.000', '/Users/ryanlee/anaconda3/lib/python3.6/site-packages/sklearn/neighbors/base.py:383(<genexpr>)'], ['16', '0.000', '0.000', '0.000', '0.000', 'built-in method builtins.isinstance'], ['2', '0.000', '0.000', '0.000', '0.000', '/Users/ryanlee/anaconda3/lib/python3.6/site-packages/numpy/core/numeric.py:2491(seterr)'], ['1', '0.000', '0.000', '0.000', '0.000', '/Users/ryanlee/anaconda3/lib/python3.6/site-packages/sklearn/externals/joblib/disk.py:34(memstr_to_bytes)'], ['1', '0.000', '0.000', '0.217', '0.217', '/Users/ryanlee/anaconda3/lib/python3.6/site-packages/sklearn/externals/joblib/parallel.py:572(_dispatch)'], ['1', '0.000', '0.000', '0.217', '0.217', '/Users/ryanlee/anaconda3/lib/python3.6/site-packages/sklearn/externals/joblib/_parallel_backends.py:109(apply_async)'], ['3', '0.000', '0.000', '0.000', '0.000', \"method 'join' of 'str' objects\"], ['1', '0.000', '0.000', '0.000', '0.000', 'built-in method numpy.core.multiarray.arange'], ['11', '0.000', '0.000', '0.000', '0.000', '/Users/ryanlee/anaconda3/lib/python3.6/site-packages/numpy/core/numeric.py:504(asanyarray)'], ['9', '0.000', '0.000', '0.000', '0.000', '/Users/ryanlee/anaconda3/lib/python3.6/site-packages/sklearn/utils/validation.py:152(<genexpr>)'], ['1', '0.000', '0.000', '0.000', '0.000', \"method 'sort' of 'numpy.ndarray' objects\"], ['3', '0.000', '0.000', '0.000', '0.000', '/Users/ryanlee/anaconda3/lib/python3.6/site-packages/numpy/core/fromnumeric.py:1821(sum)'], ['1', '0.000', '0.000', '0.216', '0.216', '/Users/ryanlee/anaconda3/lib/python3.6/site-packages/sklearn/externals/joblib/parallel.py:131(<listcomp>)'], ['1', '0.000', '0.000', '0.217', '0.217', '/Users/ryanlee/anaconda3/lib/python3.6/site-packages/sklearn/externals/joblib/_parallel_backends.py:329(__init__)'], ['3', '0.000', '0.000', '0.000', '0.000', '/Users/ryanlee/anaconda3/lib/python3.6/site-packages/sklearn/utils/validation.py:104(_num_samples)'], ['1', '0.000', '0.000', '0.000', '0.000', '/Users/ryanlee/anaconda3/lib/python3.6/abc.py:180(__instancecheck__)'], ['2', '0.000', '0.000', '0.000', '0.000', '/Users/ryanlee/anaconda3/lib/python3.6/site-packages/numpy/core/numeric.py:2592(geterr)'], ['2', '0.000', '0.000', '0.000', '0.000', '/Users/ryanlee/anaconda3/lib/python3.6/site-packages/numpy/core/shape_base.py:182(vstack)'], ['2', '0.000', '0.000', '0.000', '0.000', '/Users/ryanlee/anaconda3/lib/python3.6/site-packages/numpy/lib/shape_base.py:480(expand_dims)'], ['1', '0.000', '0.000', '0.000', '0.000', '/Users/ryanlee/anaconda3/lib/python3.6/site-packages/sklearn/externals/joblib/logger.py:39(short_format_time)'], ['2', '0.000', '0.000', '0.000', '0.000', '/Users/ryanlee/anaconda3/lib/python3.6/site-packages/sklearn/utils/__init__.py:399(gen_even_slices)'], ['2', '0.000', '0.000', '0.000', '0.000', '/Users/ryanlee/anaconda3/lib/python3.6/site-packages/IPython/core/hooks.py:142(__call__)'], ['2', '0.000', '0.000', '0.000', '0.000', 'built-in method numpy.core.multiarray.empty'], ['2', '0.000', '0.000', '0.000', '0.000', 'built-in method numpy.core.umath.seterrobj'], ['1', '0.000', '0.000', '0.000', '0.000', '/Users/ryanlee/anaconda3/lib/python3.6/site-packages/numpy/core/numeric.py:2887(__init__)'], ['1', '0.000', '0.000', '0.001', '0.001', '/Users/ryanlee/anaconda3/lib/python3.6/site-packages/numpy/core/_methods.py:34(_sum)'], ['1', '0.000', '0.000', '0.217', '0.217', '<ipython-input-44-b83ee30a71c5>:5(model_predict)'], ['1', '0.000', '0.000', '0.217', '0.217', '/Users/ryanlee/anaconda3/lib/python3.6/site-packages/sklearn/externals/joblib/parallel.py:130(__call__)'], ['1', '0.000', '0.000', '0.000', '0.000', '/Users/ryanlee/anaconda3/lib/python3.6/site-packages/sklearn/externals/joblib/logger.py:23(_squeeze_time)'], ['1', '0.000', '0.000', '0.000', '0.000', '/Users/ryanlee/anaconda3/lib/python3.6/site-packages/sklearn/externals/joblib/_parallel_backends.py:243(configure)'], ['1', '0.000', '0.000', '0.000', '0.000', '/Users/ryanlee/anaconda3/lib/python3.6/site-packages/sklearn/externals/joblib/parallel.py:169(delayed)'], ['1', '0.000', '0.000', '0.000', '0.000', '<string>:12(__new__)'], ['2', '0.000', '0.000', '0.217', '0.109', 'built-in method builtins.exec'], ['2', '0.000', '0.000', '0.000', '0.000', '/Users/ryanlee/anaconda3/lib/python3.6/_weakrefset.py:70(__contains__)'], ['2', '0.000', '0.000', '0.000', '0.000', '/Users/ryanlee/anaconda3/lib/python3.6/site-packages/IPython/utils/ipstruct.py:125(__getattr__)'], ['3', '0.000', '0.000', '0.000', '0.000', \"method 'reshape' of 'numpy.ndarray' objects\"], ['1', '0.000', '0.000', '0.001', '0.001', \"method 'sum' of 'numpy.ndarray' objects\"], ['4', '0.000', '0.000', '0.000', '0.000', '/Users/ryanlee/anaconda3/lib/python3.6/site-packages/numpy/core/numeric.py:433(asarray)'], ['1', '0.000', '0.000', '0.000', '0.000', '/Users/ryanlee/anaconda3/lib/python3.6/site-packages/numpy/core/fromnumeric.py:1471(ravel)'], ['1', '0.000', '0.000', '0.000', '0.000', '/Users/ryanlee/anaconda3/lib/python3.6/site-packages/numpy/lib/arraysetops.py:121(unique)'], ['1', '0.000', '0.000', '0.000', '0.000', '<ipython-input-133-25c0e19843aa>:14(<module>)'], ['1', '0.000', '0.000', '0.000', '0.000', '/Users/ryanlee/anaconda3/lib/python3.6/site-packages/sklearn/externals/joblib/parallel.py:56(get_active_backend)'], ['4', '0.000', '0.000', '0.000', '0.000', '/Users/ryanlee/anaconda3/lib/python3.6/site-packages/scipy/sparse/base.py:1187(isspmatrix)'], ['4', '0.000', '0.000', '0.000', '0.000', 'built-in method builtins.setattr'], ['4', '0.000', '0.000', '0.000', '0.000', 'built-in method time.time'], ['1', '0.000', '0.000', '0.000', '0.000', '/Users/ryanlee/anaconda3/lib/python3.6/functools.py:74(wraps)'], ['1', '0.000', '0.000', '0.000', '0.000', \"method 'flatten' of 'numpy.ndarray' objects\"], ['3', '0.000', '0.000', '0.000', '0.000', \"method 'ravel' of 'numpy.ndarray' objects\"], ['1', '0.000', '0.000', '0.000', '0.000', \"method 'take' of 'numpy.ndarray' objects\"], ['2', '0.000', '0.000', '0.000', '0.000', 'built-in method numpy.core.multiarray.zeros'], ['4', '0.000', '0.000', '0.000', '0.000', 'built-in method numpy.core.umath.geterrobj'], ['1', '0.000', '0.000', '0.000', '0.000', '/Users/ryanlee/anaconda3/lib/python3.6/site-packages/numpy/core/numeric.py:2891(__enter__)'], ['2', '0.000', '0.000', '0.000', '0.000', '/Users/ryanlee/anaconda3/lib/python3.6/site-packages/numpy/core/shape_base.py:234(<listcomp>)'], ['3', '0.000', '0.000', '0.000', '0.000', '/Users/ryanlee/anaconda3/lib/python3.6/site-packages/sklearn/__init__.py:29(get_config)'], ['1', '0.000', '0.000', '0.217', '0.217', '<ipython-input-133-25c0e19843aa>:13(<module>)'], ['1', '0.000', '0.000', '0.000', '0.000', '/Users/ryanlee/anaconda3/lib/python3.6/site-packages/scipy/stats/stats.py:196(_chk_asarray)'], ['1', '0.000', '0.000', '0.000', '0.000', '/Users/ryanlee/anaconda3/lib/python3.6/site-packages/sklearn/externals/joblib/_parallel_backends.py:48(configure)'], ['1', '0.000', '0.000', '0.000', '0.000', \"method 'pop' of 'list' objects\"], ['3', '0.000', '0.000', '0.000', '0.000', \"method 'items' of 'dict' objects\"], ['1', '0.000', '0.000', '0.000', '0.000', \"method 'update' of 'dict' objects\"], ['1', '0.000', '0.000', '0.000', '0.000', 'built-in method __new__ of type object at 0x1091dd750'], ['1', '0.000', '0.000', '0.000', '0.000', \"method 'startswith' of 'str' objects\"], ['1', '0.000', '0.000', '0.000', '0.000', 'built-in method builtins.max'], ['1', '0.000', '0.000', '0.000', '0.000', 'built-in method _thread.allocate_lock'], ['2', '0.000', '0.000', '0.000', '0.000', '/Users/ryanlee/anaconda3/lib/python3.6/site-packages/IPython/core/interactiveshell.py:1104(user_global_ns)'], ['1', '0.000', '0.000', '0.000', '0.000', '/Users/ryanlee/anaconda3/lib/python3.6/site-packages/numpy/core/numeric.py:2896(__exit__)'], ['1', '0.000', '0.000', '0.000', '0.000', '/Users/ryanlee/anaconda3/lib/python3.6/site-packages/numpy/lib/arraysetops.py:113(_unpack_tuple)'], ['1', '0.000', '0.000', '0.000', '0.000', '/Users/ryanlee/anaconda3/lib/python3.6/site-packages/sklearn/neighbors/base.py:57(_get_weights)'], ['1', '0.000', '0.000', '0.000', '0.000', '/Users/ryanlee/anaconda3/lib/python3.6/site-packages/sklearn/externals/joblib/_parallel_backends.py:334(get)'], ['1', '0.000', '0.000', '0.000', '0.000', '/Users/ryanlee/anaconda3/lib/python3.6/site-packages/sklearn/externals/joblib/_parallel_backends.py:365(__init__)'], ['4', '0.000', '0.000', '0.000', '0.000', '/Users/ryanlee/anaconda3/lib/python3.6/site-packages/sklearn/externals/joblib/parallel.py:133(__len__)'], ['1', '0.000', '0.000', '0.000', '0.000', '/Users/ryanlee/anaconda3/lib/python3.6/site-packages/sklearn/externals/joblib/parallel.py:206(__init__)'], ['1', '0.000', '0.000', '0.000', '0.000', '/Users/ryanlee/anaconda3/lib/python3.6/site-packages/sklearn/externals/joblib/parallel.py:568(_terminate_backend)'], ['1', '0.000', '0.000', '0.000', '0.000', '/Users/ryanlee/anaconda3/lib/python3.6/site-packages/sklearn/externals/joblib/parallel.py:641(print_progress)'], ['1', '0.000', '0.000', '0.000', '0.000', '/Users/ryanlee/anaconda3/lib/python3.6/site-packages/sklearn/externals/joblib/_parallel_backends.py:57(terminate)'], ['1', '0.000', '0.000', '0.000', '0.000', '/Users/ryanlee/anaconda3/lib/python3.6/site-packages/sklearn/externals/joblib/_parallel_backends.py:120(effective_n_jobs)'], ['1', '0.000', '0.000', '0.000', '0.000', '/Users/ryanlee/anaconda3/lib/python3.6/site-packages/sklearn/utils/__init__.py:433(_get_n_jobs)'], ['6', '0.000', '0.000', '0.000', '0.000', \"method 'append' of 'list' objects\"], ['1', '0.000', '0.000', '0.000', '0.000', \"method 'extend' of 'list' objects\"], ['1', '0.000', '0.000', '0.000', '0.000', \"method 'pop' of 'dict' objects\"], ['1', '0.000', '0.000', '0.000', '0.000', 'built-in method builtins.iter'], ['2', '0.000', '0.000', '0.000', '0.000', '/Users/ryanlee/anaconda3/lib/python3.6/site-packages/IPython/core/hooks.py:207(pre_run_code_hook)'], ['1', '0.000', '0.000', '0.000', '0.000', \"method 'disable' of '_lsprof.Profiler' objects\"], ['1', '0.000', '0.000', '0.000', '0.000', '/Users/ryanlee/anaconda3/lib/python3.6/site-packages/sklearn/externals/joblib/parallel.py:185(delayed_function)'], ['1', '0.000', '0.000', '0.000', '0.000', '/Users/ryanlee/anaconda3/lib/python3.6/site-packages/sklearn/externals/joblib/parallel.py:628(_print)'], ['2', '0.000', '0.000', '0.000', '0.000', '/Users/ryanlee/anaconda3/lib/python3.6/site-packages/sklearn/externals/joblib/_parallel_backends.py:60(compute_batch_size)'], ['1', '0.000', '0.000', '0.000', '0.000', '/Users/ryanlee/anaconda3/lib/python3.6/site-packages/sklearn/externals/joblib/_parallel_backends.py:64(batch_completed)'], ['1', '0.000', '0.000', '0.000', '0.000', '/Users/ryanlee/anaconda3/lib/python3.6/site-packages/sklearn/externals/joblib/_parallel_backends.py:103(effective_n_jobs)'], [], []]\n",
      "['ncalls', 'tottime', 'percall', 'cumtime', 'percall', 'filename:lineno(function)']\n"
     ]
    }
   ],
   "source": [
    "profiler = cProfile.Profile()\n",
    "\n",
    "size = 100\n",
    "\n",
    "volcano_test_X = load_csv_as_np_array('test_images.csv')[:size, :]\n",
    "volcano_test_y = load_csv_as_np_array('test_labels.csv')[1:size+1, :1].flatten()\n",
    "\n",
    "volcano_train_X = load_csv_as_np_array('train_images.csv')[:size, :]\n",
    "volcano_train_y = load_csv_as_np_array('train_labels.csv')[1:size+1, :1].flatten()\n",
    "model = KNeighborsClassifier().fit(volcano_test_X, volcano_test_y)\n",
    "\n",
    "profiler.enable()\n",
    "model_predict(volcano_test_X, model)\n",
    "profiler.disable()\n",
    "\n",
    "headers, lines = convert_profiler_to_lists(profiler)\n",
    "print(lines)\n",
    "print(headers)"
   ]
  },
  {
   "cell_type": "code",
   "execution_count": 143,
   "metadata": {},
   "outputs": [
    {
     "name": "stdout",
     "output_type": "stream",
     "text": [
      "(3, 2)\n"
     ]
    },
    {
     "data": {
      "text/plain": [
       "array(['0.200', '0.015', '0.001'], dtype='<U64')"
      ]
     },
     "execution_count": 143,
     "metadata": {},
     "output_type": "execute_result"
    }
   ],
   "source": [
    "lines = [x for x in lines if x != []]\n",
    "np_lines = list(map(lambda line: np.array(line), lines))\n",
    "np_lines = list(filter(lambda line: float(line[1]) > 0, np_lines))\n",
    "time_function_list = np.array(list(map(lambda line: np.take(line, [1, 5]), np_lines)))\n",
    "print(time_function_list.shape)\n",
    "time_function_list[:,0]"
   ]
  },
  {
   "cell_type": "code",
   "execution_count": 144,
   "metadata": {},
   "outputs": [],
   "source": [
    "# Lables and data\n",
    "# top_labels = ['func<br>a', 'func<br>b', 'func<br>c', 'func<br>d', 'func<br>e']\n",
    "# x_data = [[21, 30, 21, 16, 12]] # Replace with runtimes in the future\n",
    "# y_data = ['Time']"
   ]
  },
  {
   "cell_type": "code",
   "execution_count": 145,
   "metadata": {},
   "outputs": [
    {
     "data": {
      "text/plain": [
       "array([0.2  , 0.015, 0.001])"
      ]
     },
     "execution_count": 145,
     "metadata": {},
     "output_type": "execute_result"
    }
   ],
   "source": [
    "time_function_list[:, 0].astype(np.float64)"
   ]
  },
  {
   "cell_type": "code",
   "execution_count": 146,
   "metadata": {},
   "outputs": [],
   "source": [
    "top_labels = time_function_list[:, 1]\n",
    "x_data =[time_function_list[:, 0].astype(np.float64)]\n",
    "y_data = ['Time']"
   ]
  },
  {
   "cell_type": "code",
   "execution_count": 147,
   "metadata": {},
   "outputs": [],
   "source": [
    "# Layout code\n",
    "\n",
    "colors = ['rgba(38, 24, 74, 0.8)', 'rgba(71, 58, 131, 0.8)',\n",
    "          'rgba(122, 120, 168, 0.8)', 'rgba(164, 163, 204, 0.85)',\n",
    "          'rgba(190, 192, 213, 1)']\n",
    "\n",
    "traces = []\n",
    "\n",
    "for i in range(0, len(x_data[0])):\n",
    "    for xd, yd in zip(x_data, y_data):\n",
    "        traces.append(go.Bar(\n",
    "            x=[xd[i]],\n",
    "            y=[yd],\n",
    "            orientation='h',\n",
    "            marker=dict(\n",
    "                color=colors[i],\n",
    "                line=dict(\n",
    "                        color='rgb(248, 248, 249)',\n",
    "                        width=1)\n",
    "            )\n",
    "        ))\n",
    "\n",
    "layout = go.Layout(\n",
    "    xaxis=dict(\n",
    "        showgrid=False,\n",
    "        showline=False,\n",
    "        showticklabels=False,\n",
    "        zeroline=False,\n",
    "        domain=[0.15, 1]\n",
    "    ),\n",
    "    yaxis=dict(\n",
    "        showgrid=False,\n",
    "        showline=False,\n",
    "        showticklabels=False,\n",
    "        zeroline=False,\n",
    "    ),\n",
    "    barmode='stack',\n",
    "    paper_bgcolor='rgb(248, 248, 255)',\n",
    "    plot_bgcolor='rgb(248, 248, 255)',\n",
    "    margin=dict(\n",
    "        l=120,\n",
    "        r=10,\n",
    "        t=140,\n",
    "        b=80\n",
    "    ),\n",
    "    showlegend=False,\n",
    ")"
   ]
  },
  {
   "cell_type": "code",
   "execution_count": 148,
   "metadata": {},
   "outputs": [
    {
     "name": "stdout",
     "output_type": "stream",
     "text": [
      "High five! You successfully sent some data to your account on plotly. View your plot in your browser at https://plot.ly/~ryanmklee/0 or inside your plot.ly account where it is named 'bar-colorscale'\n"
     ]
    },
    {
     "data": {
      "text/html": [
       "<iframe id=\"igraph\" scrolling=\"no\" style=\"border:none;\" seamless=\"seamless\" src=\"https://plot.ly/~ryanmklee/0.embed\" height=\"525px\" width=\"100%\"></iframe>"
      ],
      "text/plain": [
       "<plotly.tools.PlotlyDisplay object>"
      ]
     },
     "execution_count": 148,
     "metadata": {},
     "output_type": "execute_result"
    }
   ],
   "source": [
    "annotations = []\n",
    "\n",
    "for yd, xd in zip(y_data, x_data):\n",
    "    # labeling the y-axis\n",
    "    annotations.append(dict(xref='paper', yref='y',\n",
    "                            x=0.14, y=yd,\n",
    "                            xanchor='right',\n",
    "                            text=str(yd),\n",
    "                            font=dict(family='Arial', size=14,\n",
    "                                      color='rgb(67, 67, 67)'),\n",
    "                            showarrow=False, align='right'))\n",
    "    # labeling the first percentage of each bar (x_axis)\n",
    "    annotations.append(dict(xref='x', yref='y',\n",
    "                            x=xd[0] / 2, y=yd,\n",
    "                            text=str(xd[0]) + 's',\n",
    "                            font=dict(family='Arial', size=14,\n",
    "                                      color='rgb(248, 248, 255)'),\n",
    "                            showarrow=False))\n",
    "    # labeling the first Likert scale (on the top)\n",
    "    if yd == y_data[-1]:\n",
    "        annotations.append(dict(xref='x', yref='paper',\n",
    "                                x=xd[0] / 2, y=1.1,\n",
    "                                text=top_labels[0],\n",
    "                                font=dict(family='Arial', size=14,\n",
    "                                          color='rgb(67, 67, 67)'),\n",
    "                                showarrow=False))\n",
    "    space = xd[0]\n",
    "    for i in range(1, len(xd)):\n",
    "            # labeling the rest of percentages for each bar (x_axis)\n",
    "            annotations.append(dict(xref='x', yref='y',\n",
    "                                    x=space + (xd[i]/2), y=yd, \n",
    "                                    text=str(xd[i]) + 's',\n",
    "                                    font=dict(family='Arial', size=14,\n",
    "                                              color='rgb(248, 248, 255)'),\n",
    "                                    showarrow=False))\n",
    "            # labeling the Likert scale\n",
    "            if yd == y_data[-1]:\n",
    "                annotations.append(dict(xref='x', yref='paper',\n",
    "                                        x=space + (xd[i]/2), y=1.1,\n",
    "                                        text=top_labels[i], \n",
    "                                        font=dict(family='Arial', size=14,\n",
    "                                                  color='rgb(67, 67, 67)'),\n",
    "                                        showarrow=False))\n",
    "            space += xd[i]\n",
    "\n",
    "layout['annotations'] = annotations\n",
    "\n",
    "fig = go.Figure(data=traces, layout=layout)\n",
    "py.iplot(fig, filename='bar-colorscale')"
   ]
  },
  {
   "cell_type": "code",
   "execution_count": null,
   "metadata": {},
   "outputs": [],
   "source": []
  },
  {
   "cell_type": "code",
   "execution_count": null,
   "metadata": {},
   "outputs": [],
   "source": []
  },
  {
   "cell_type": "code",
   "execution_count": null,
   "metadata": {},
   "outputs": [],
   "source": []
  }
 ],
 "metadata": {
  "kernelspec": {
   "display_name": "Python 3",
   "language": "python",
   "name": "python3"
  },
  "language_info": {
   "codemirror_mode": {
    "name": "ipython",
    "version": 3
   },
   "file_extension": ".py",
   "mimetype": "text/x-python",
   "name": "python",
   "nbconvert_exporter": "python",
   "pygments_lexer": "ipython3",
   "version": "3.6.5"
  }
 },
 "nbformat": 4,
 "nbformat_minor": 2
}
